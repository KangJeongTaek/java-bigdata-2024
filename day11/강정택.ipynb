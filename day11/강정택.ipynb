{
 "cells": [
  {
   "cell_type": "markdown",
   "metadata": {},
   "source": [
    "## 1번 문제"
   ]
  },
  {
   "cell_type": "code",
   "execution_count": 24,
   "metadata": {},
   "outputs": [
    {
     "name": "stdout",
     "output_type": "stream",
     "text": [
      "숫자만 입력해주세요\n"
     ]
    }
   ],
   "source": [
    "idNumber = input('주민 번호를 입력하세요.(앞 뒤 구분자 : -)')\n",
    "splitId = idNumber.split('-')\n",
    "check = False\n",
    "try:\n",
    "    firstId = splitId[0]\n",
    "    secondId = splitId[1]\n",
    "    int(firstId)\n",
    "    int(secondId)\n",
    "    check = True\n",
    "except IndexError:\n",
    "    print('구분자와 함께 입력해주세요')\n",
    "except ValueError:\n",
    "    print('숫자만 입력해주세요')\n",
    "\n",
    "if (len(firstId) != 6 or len(secondId) != 7 ) and check:\n",
    "    print('자리수를 확인해주세요.')\n",
    "elif check:\n",
    "    gender = secondId[0]\n",
    "    if gender in ['1','3','5']:\n",
    "        print('남성입니다.')\n",
    "    elif gender in ['2','4','6']:\n",
    "        print('여성입니다.')"
   ]
  },
  {
   "cell_type": "markdown",
   "metadata": {},
   "source": [
    "## 2번 문제"
   ]
  },
  {
   "cell_type": "code",
   "execution_count": null,
   "metadata": {},
   "outputs": [],
   "source": [
    "weekday = input('일주일의 영어명을 입력해주세요.').upper()\n",
    "englishWeekday = ['MON','TUE','WED','THU','FRI','SAT','SUN']\n",
    "if weekday in englishWeekday:\n",
    "    koreanWeekday = ['월','화','수','목','금','토','일']\n",
    "    print(f'오늘은 {koreanWeekday[englishWeekday.index(weekday)]}요일입니다.')\n",
    "else:\n",
    "    print(f'{englishWeekday}내에서 입력해주세요.')"
   ]
  },
  {
   "cell_type": "markdown",
   "metadata": {},
   "source": [
    "## 3번 문제"
   ]
  },
  {
   "cell_type": "code",
   "execution_count": null,
   "metadata": {},
   "outputs": [],
   "source": [
    "age = input('나이를 입력하세요.')\n",
    "try:\n",
    "    age = int(age)\n",
    "    if age < 19 and age >=0:\n",
    "        print('입장 금지')\n",
    "    elif age >= 19:\n",
    "        print('입장 가능')\n",
    "    else:\n",
    "        print('0보다 큰 숫자를 입력하세요.')\n",
    "except ValueError:\n",
    "    print(f'{age}가 입력됐습니다. 정수만 입력하세요.')\n",
    "\n"
   ]
  },
  {
   "cell_type": "markdown",
   "metadata": {},
   "source": [
    "## 4번 문제"
   ]
  },
  {
   "cell_type": "code",
   "execution_count": 63,
   "metadata": {},
   "outputs": [],
   "source": [
    "i = 0\n",
    "with open('./result.txt',mode='w',encoding='utf-8') as f:\n",
    "    f.write(f'{\"-\"*10}1000이하의 3과 5의 배수{\"-\"*10}\\n')\n",
    "while i <= 1000:\n",
    "    i += 1\n",
    "    if i % 3 == 0 or i % 5 == 0:\n",
    "        with open('./result.txt',mode='a',encoding='utf-8') as f:\n",
    "            f.write(f'{i}\\n')"
   ]
  },
  {
   "cell_type": "markdown",
   "metadata": {},
   "source": [
    "## 5번 문제"
   ]
  },
  {
   "cell_type": "code",
   "execution_count": null,
   "metadata": {},
   "outputs": [],
   "source": [
    "import datetime\n",
    "\n",
    "present = datetime.datetime.now()\n",
    "\n",
    "year = present.year\n",
    "mon = present.month\n",
    "day = present.day\n",
    "hour = present.hour\n",
    "minute = present.minute\n",
    "second = present.second\n",
    "\n",
    "print(f'{year}\\\\{mon:02d}%{day:02d} {hour:02d}**{minute:02d}//{second}')"
   ]
  }
 ],
 "metadata": {
  "kernelspec": {
   "display_name": "Python 3",
   "language": "python",
   "name": "python3"
  },
  "language_info": {
   "codemirror_mode": {
    "name": "ipython",
    "version": 3
   },
   "file_extension": ".py",
   "mimetype": "text/x-python",
   "name": "python",
   "nbconvert_exporter": "python",
   "pygments_lexer": "ipython3",
   "version": "3.12.2"
  }
 },
 "nbformat": 4,
 "nbformat_minor": 2
}
