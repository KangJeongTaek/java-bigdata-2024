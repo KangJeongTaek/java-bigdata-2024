{
 "cells": [
  {
   "cell_type": "markdown",
   "metadata": {},
   "source": [
    "## 파이썬에서 챗GPT 사용하기\n",
    "\n",
    "- 챗GPT용 모듈 openai 설치\n",
    "\n",
    "    ```python\n",
    "    >!pip install openai\n",
    "    >pip install --upgrade openai\n",
    "    ```"
   ]
  },
  {
   "cell_type": "markdown",
   "metadata": {},
   "source": [
    "- OpenAi 사이트에서 API 키 획득\n",
    "    - [주소](https://platform.openai.com/) API 키 획득\n",
    "    - 키는 한 번 생성 후 다시 볼 수 없음. 그러니 보관 해둬야함"
   ]
  },
  {
   "cell_type": "code",
   "execution_count": null,
   "metadata": {},
   "outputs": [],
   "source": [
    "import os\n",
    "import openai"
   ]
  },
  {
   "cell_type": "code",
   "execution_count": null,
   "metadata": {},
   "outputs": [],
   "source": [
    "openai.api_key = ##\n"
   ]
  },
  {
   "cell_type": "markdown",
   "metadata": {},
   "source": [
    "- 챗GPT용 함수 생성"
   ]
  },
  {
   "cell_type": "code",
   "execution_count": 103,
   "metadata": {},
   "outputs": [],
   "source": [
    "def query_gpt_35(text):\n",
    "    res = openai.chat.completions.create(\n",
    "        model = 'gpt-3.5-turbo',\n",
    "        messages = [\n",
    "            {'role':'system','content':'You are a helpful assistant.'},\n",
    "            {'role':'user','content':text},\n",
    "            {'role':'assistant','content':\"Who's there?\"}\n",
    "                    ]\n",
    "        )\n",
    "    return res.choices[0].message.content"
   ]
  },
  {
   "cell_type": "code",
   "execution_count": null,
   "metadata": {},
   "outputs": [],
   "source": [
    "text = input('챗GPT에 물어볼 내용을 작성하세요.')\n",
    "query_gpt_35(text)"
   ]
  }
 ],
 "metadata": {
  "kernelspec": {
   "display_name": "Python 3",
   "language": "python",
   "name": "python3"
  },
  "language_info": {
   "codemirror_mode": {
    "name": "ipython",
    "version": 3
   },
   "file_extension": ".py",
   "mimetype": "text/x-python",
   "name": "python",
   "nbconvert_exporter": "python",
   "pygments_lexer": "ipython3",
   "version": "3.12.2"
  }
 },
 "nbformat": 4,
 "nbformat_minor": 2
}
