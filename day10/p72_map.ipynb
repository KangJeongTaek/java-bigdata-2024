{
 "cells": [
  {
   "cell_type": "markdown",
   "metadata": {},
   "source": [
    "## 지도 표시하기\n",
    "\n",
    "- Folium 라이브러리\n",
    "    - Javascript로 만들어진 leaflet.js 라이브러리를 Python에 쓸 수 있도록 변환(Wrapping)한 것\n",
    "    - [leaflet](https://leafletjs.com/) 공식 홈페이지 참조\n",
    "    - [Folium](https://python-visualization.github.io/folium/latest/) 깃 허브 참조(버전이 변할 때 함수, 옵션 등이 계속 바뀜)\n",
    "\n",
    "- Folium 설치\n",
    "    ```shell\n",
    "    >pip install folium\n",
    "    ```\n",
    "\n",
    "- 노트북에서 실행시는 pip 앞에 ! 추가"
   ]
  },
  {
   "cell_type": "code",
   "execution_count": 18,
   "metadata": {},
   "outputs": [],
   "source": [
    "#!pip install folium"
   ]
  },
  {
   "cell_type": "markdown",
   "metadata": {},
   "source": [
    "- Folium 모듈 추가\n",
    "    ```python\n",
    "    import folium\n",
    "    ```"
   ]
  },
  {
   "cell_type": "code",
   "execution_count": 19,
   "metadata": {},
   "outputs": [],
   "source": [
    "import folium"
   ]
  },
  {
   "cell_type": "code",
   "execution_count": 20,
   "metadata": {},
   "outputs": [],
   "source": [
    "# 지도표시, 지도 확인때는 구글맵 참조\n",
    "# https://map.google.com\n",
    "map = folium.Map(location=(35.178508,129.199443))"
   ]
  },
  {
   "cell_type": "code",
   "execution_count": null,
   "metadata": {},
   "outputs": [],
   "source": [
    "#folium은 줌값이 필요하다 # 위-경도는 소수점 넷째 자리까지는 정확히 일치해야 함\n",
    "map = folium.Map(location=[35.178508,129.199443],zoom_start=16)\n",
    "map"
   ]
  },
  {
   "cell_type": "code",
   "execution_count": 101,
   "metadata": {},
   "outputs": [],
   "source": [
    "map.save('./map.html')"
   ]
  },
  {
   "cell_type": "markdown",
   "metadata": {},
   "source": [
    ">- 지도 타일셋 설정\n",
    ">    >- OpenStreetMap(기본), OpenTopoMap(속도 엄청 느림), OpenStreetMap.BZH, OpenStreetMap.HOT\n",
    ">    >- cartodb positron, CartoDB Voyager, CartoDbDark_matter, CartoDB.VoyagerLabelsUnder(cartdb 그룹)\n",
    ">    >- CyclOSM"
   ]
  },
  {
   "cell_type": "code",
   "execution_count": null,
   "metadata": {},
   "outputs": [],
   "source": [
    "# 타일셋 지정\n",
    "map = folium.Map(location=[35.178508,129.199443],zoom_start=16,tiles='CartoDB Voyager')\n",
    "map"
   ]
  },
  {
   "cell_type": "markdown",
   "metadata": {},
   "source": [
    "- 지도 마커 표시\n",
    "    - Marker() 클래스로 생성한 뒤 지도에 추가"
   ]
  },
  {
   "cell_type": "code",
   "execution_count": null,
   "metadata": {},
   "outputs": [],
   "source": [
    "# 마커 표시\n",
    "map = folium.Map(location=[35.178508,129.199443],zoom_start=16,tiles='CartoDB Voyager')\n",
    "\n",
    "\n",
    "folium.Marker(location=[35.178508,129.199443],tooltip='송정 해수욕장',popup='어서오세요').add_to(map)\n",
    "popup = folium.Popup('<pre><a href=\"https://www.starbucks.co.kr/\">스타벅스</a>로 오세요</pre>', min_width= 200,max_width=300)\n",
    "folium.Marker(location=[35.180762,129.202324],tooltip='스타벅스 부산 송정 비치점',popup=popup,icon=folium.Icon(color='green',icon='mug-hot',prefix='fa')).add_to(map)\n",
    "map"
   ]
  }
 ],
 "metadata": {
  "kernelspec": {
   "display_name": "Python 3",
   "language": "python",
   "name": "python3"
  },
  "language_info": {
   "codemirror_mode": {
    "name": "ipython",
    "version": 3
   },
   "file_extension": ".py",
   "mimetype": "text/x-python",
   "name": "python",
   "nbconvert_exporter": "python",
   "pygments_lexer": "ipython3",
   "version": "3.12.2"
  }
 },
 "nbformat": 4,
 "nbformat_minor": 2
}
