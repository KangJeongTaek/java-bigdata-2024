{
 "cells": [
  {
   "cell_type": "markdown",
   "metadata": {},
   "source": [
    "## 지도 표시하기\n",
    "\n",
    "- Folium 라이브러리\n",
    "    - Javascript로 만들어진 leaflet.js 라이브러리를 Python에 쓸 수 있도록 변환(Wrapping)한 것\n",
    "    - [leaflet](https://leafletjs.com/) 공식 홈페이지 참조\n",
    "    - [Folium](https://python-visualization.github.io/folium/latest/) 깃 허브 참조(버전이 변할 때 함수, 옵션 등이 계속 바뀜)\n",
    "\n",
    "- Folium 설치\n",
    "    ```shell\n",
    "    >pip install folium\n",
    "    ```\n",
    "\n",
    "- 노트북에서 실행시는 pip 앞에 ! 추가"
   ]
  },
  {
   "cell_type": "code",
   "execution_count": 18,
   "metadata": {},
   "outputs": [],
   "source": [
    "#!pip install folium"
   ]
  },
  {
   "cell_type": "markdown",
   "metadata": {},
   "source": [
    "- Folium 모듈 추가\n",
    "    ```python\n",
    "    import folium\n",
    "    ```"
   ]
  },
  {
   "cell_type": "code",
   "execution_count": 19,
   "metadata": {},
   "outputs": [],
   "source": [
    "import folium"
   ]
  },
  {
   "cell_type": "code",
   "execution_count": 20,
   "metadata": {},
   "outputs": [],
   "source": [
    "# 지도표시, 지도 확인때는 구글맵 참조\n",
    "# https://map.google.com\n",
    "map = folium.Map(location=(35.178508,129.199443))"
   ]
  },
  {
   "cell_type": "code",
   "execution_count": null,
   "metadata": {},
   "outputs": [],
   "source": [
    "#folium은 줌값이 필요하다 # 위-경도는 소수점 넷째 자리까지는 정확히 일치해야 함\n",
    "map = folium.Map(location=[35.178508,129.199443],zoom_start=16)\n",
    "map"
   ]
  },
  {
   "cell_type": "markdown",
   "metadata": {},
   "source": [
    ">- 지도 타일셋 설정\n",
    ">    >- OpenStreetMap(기본), OpenTopoMap(속도 엄청 느림), OpenStreetMap.BZH, OpenStreetMap.HOT\n",
    ">    >- cartodb positron, CartoDB Voyager, CartoDbDark_matter, CartoDB.VoyagerLabelsUnder(cartdb 그룹)\n",
    ">    >- CyclOSM"
   ]
  },
  {
   "cell_type": "code",
   "execution_count": null,
   "metadata": {},
   "outputs": [],
   "source": [
    "# 타일셋 지정\n",
    "map = folium.Map(location=[35.178508,129.199443],zoom_start=16,tiles='CartoDB Voyager')\n",
    "map"
   ]
  },
  {
   "cell_type": "markdown",
   "metadata": {},
   "source": [
    "- 지도 마커 표시\n",
    "    - Marker() 클래스로 생성한 뒤 지도에 추가"
   ]
  },
  {
   "cell_type": "code",
   "execution_count": 100,
   "metadata": {},
   "outputs": [
    {
     "data": {
      "text/html": [
       "<div style=\"width:100%;\"><div style=\"position:relative;width:100%;height:0;padding-bottom:60%;\"><span style=\"color:#565656\">Make this Notebook Trusted to load map: File -> Trust Notebook</span><iframe srcdoc=\"&lt;!DOCTYPE html&gt;\n",
       "&lt;html&gt;\n",
       "&lt;head&gt;\n",
       "    \n",
       "    &lt;meta http-equiv=&quot;content-type&quot; content=&quot;text/html; charset=UTF-8&quot; /&gt;\n",
       "    \n",
       "        &lt;script&gt;\n",
       "            L_NO_TOUCH = false;\n",
       "            L_DISABLE_3D = false;\n",
       "        &lt;/script&gt;\n",
       "    \n",
       "    &lt;style&gt;html, body {width: 100%;height: 100%;margin: 0;padding: 0;}&lt;/style&gt;\n",
       "    &lt;style&gt;#map {position:absolute;top:0;bottom:0;right:0;left:0;}&lt;/style&gt;\n",
       "    &lt;script src=&quot;https://cdn.jsdelivr.net/npm/leaflet@1.9.3/dist/leaflet.js&quot;&gt;&lt;/script&gt;\n",
       "    &lt;script src=&quot;https://code.jquery.com/jquery-3.7.1.min.js&quot;&gt;&lt;/script&gt;\n",
       "    &lt;script src=&quot;https://cdn.jsdelivr.net/npm/bootstrap@5.2.2/dist/js/bootstrap.bundle.min.js&quot;&gt;&lt;/script&gt;\n",
       "    &lt;script src=&quot;https://cdnjs.cloudflare.com/ajax/libs/Leaflet.awesome-markers/2.0.2/leaflet.awesome-markers.js&quot;&gt;&lt;/script&gt;\n",
       "    &lt;link rel=&quot;stylesheet&quot; href=&quot;https://cdn.jsdelivr.net/npm/leaflet@1.9.3/dist/leaflet.css&quot;/&gt;\n",
       "    &lt;link rel=&quot;stylesheet&quot; href=&quot;https://cdn.jsdelivr.net/npm/bootstrap@5.2.2/dist/css/bootstrap.min.css&quot;/&gt;\n",
       "    &lt;link rel=&quot;stylesheet&quot; href=&quot;https://netdna.bootstrapcdn.com/bootstrap/3.0.0/css/bootstrap.min.css&quot;/&gt;\n",
       "    &lt;link rel=&quot;stylesheet&quot; href=&quot;https://cdn.jsdelivr.net/npm/@fortawesome/fontawesome-free@6.2.0/css/all.min.css&quot;/&gt;\n",
       "    &lt;link rel=&quot;stylesheet&quot; href=&quot;https://cdnjs.cloudflare.com/ajax/libs/Leaflet.awesome-markers/2.0.2/leaflet.awesome-markers.css&quot;/&gt;\n",
       "    &lt;link rel=&quot;stylesheet&quot; href=&quot;https://cdn.jsdelivr.net/gh/python-visualization/folium/folium/templates/leaflet.awesome.rotate.min.css&quot;/&gt;\n",
       "    \n",
       "            &lt;meta name=&quot;viewport&quot; content=&quot;width=device-width,\n",
       "                initial-scale=1.0, maximum-scale=1.0, user-scalable=no&quot; /&gt;\n",
       "            &lt;style&gt;\n",
       "                #map_81b26880acd3ea3f7a7c9f71477ce854 {\n",
       "                    position: relative;\n",
       "                    width: 100.0%;\n",
       "                    height: 100.0%;\n",
       "                    left: 0.0%;\n",
       "                    top: 0.0%;\n",
       "                }\n",
       "                .leaflet-container { font-size: 1rem; }\n",
       "            &lt;/style&gt;\n",
       "        \n",
       "&lt;/head&gt;\n",
       "&lt;body&gt;\n",
       "    \n",
       "    \n",
       "            &lt;div class=&quot;folium-map&quot; id=&quot;map_81b26880acd3ea3f7a7c9f71477ce854&quot; &gt;&lt;/div&gt;\n",
       "        \n",
       "&lt;/body&gt;\n",
       "&lt;script&gt;\n",
       "    \n",
       "    \n",
       "            var map_81b26880acd3ea3f7a7c9f71477ce854 = L.map(\n",
       "                &quot;map_81b26880acd3ea3f7a7c9f71477ce854&quot;,\n",
       "                {\n",
       "                    center: [35.178508, 129.199443],\n",
       "                    crs: L.CRS.EPSG3857,\n",
       "                    zoom: 16,\n",
       "                    zoomControl: true,\n",
       "                    preferCanvas: false,\n",
       "                }\n",
       "            );\n",
       "\n",
       "            \n",
       "\n",
       "        \n",
       "    \n",
       "            var tile_layer_fb0beaeda45a609c1ac3d09fced3a342 = L.tileLayer(\n",
       "                &quot;https://{s}.basemaps.cartocdn.com/rastertiles/voyager/{z}/{x}/{y}{r}.png&quot;,\n",
       "                {&quot;attribution&quot;: &quot;\\u0026copy; \\u003ca href=\\&quot;https://www.openstreetmap.org/copyright\\&quot;\\u003eOpenStreetMap\\u003c/a\\u003e contributors \\u0026copy; \\u003ca href=\\&quot;https://carto.com/attributions\\&quot;\\u003eCARTO\\u003c/a\\u003e&quot;, &quot;detectRetina&quot;: false, &quot;maxNativeZoom&quot;: 20, &quot;maxZoom&quot;: 20, &quot;minZoom&quot;: 0, &quot;noWrap&quot;: false, &quot;opacity&quot;: 1, &quot;subdomains&quot;: &quot;abcd&quot;, &quot;tms&quot;: false}\n",
       "            );\n",
       "        \n",
       "    \n",
       "            tile_layer_fb0beaeda45a609c1ac3d09fced3a342.addTo(map_81b26880acd3ea3f7a7c9f71477ce854);\n",
       "        \n",
       "    \n",
       "            var marker_e8163e346dcca0d7966c99761c9f5dd7 = L.marker(\n",
       "                [35.178508, 129.199443],\n",
       "                {}\n",
       "            ).addTo(map_81b26880acd3ea3f7a7c9f71477ce854);\n",
       "        \n",
       "    \n",
       "        var popup_411ffc2235baaa36374275229ba0b0d7 = L.popup({&quot;maxWidth&quot;: &quot;100%&quot;});\n",
       "\n",
       "        \n",
       "            \n",
       "                var html_c911ea3748fcea0239245535eaa5f6d6 = $(`&lt;div id=&quot;html_c911ea3748fcea0239245535eaa5f6d6&quot; style=&quot;width: 100.0%; height: 100.0%;&quot;&gt;어서오세요&lt;/div&gt;`)[0];\n",
       "                popup_411ffc2235baaa36374275229ba0b0d7.setContent(html_c911ea3748fcea0239245535eaa5f6d6);\n",
       "            \n",
       "        \n",
       "\n",
       "        marker_e8163e346dcca0d7966c99761c9f5dd7.bindPopup(popup_411ffc2235baaa36374275229ba0b0d7)\n",
       "        ;\n",
       "\n",
       "        \n",
       "    \n",
       "    \n",
       "            marker_e8163e346dcca0d7966c99761c9f5dd7.bindTooltip(\n",
       "                `&lt;div&gt;\n",
       "                     송정 해수욕장\n",
       "                 &lt;/div&gt;`,\n",
       "                {&quot;sticky&quot;: true}\n",
       "            );\n",
       "        \n",
       "    \n",
       "            var marker_4f21926be845597d355f05403142e23b = L.marker(\n",
       "                [35.180762, 129.202324],\n",
       "                {}\n",
       "            ).addTo(map_81b26880acd3ea3f7a7c9f71477ce854);\n",
       "        \n",
       "    \n",
       "            var icon_ab8ef3e001d2b5be1acc9156d3475311 = L.AwesomeMarkers.icon(\n",
       "                {&quot;extraClasses&quot;: &quot;fa-rotate-0&quot;, &quot;icon&quot;: &quot;mug-hot&quot;, &quot;iconColor&quot;: &quot;white&quot;, &quot;markerColor&quot;: &quot;green&quot;, &quot;prefix&quot;: &quot;fa&quot;}\n",
       "            );\n",
       "            marker_4f21926be845597d355f05403142e23b.setIcon(icon_ab8ef3e001d2b5be1acc9156d3475311);\n",
       "        \n",
       "    \n",
       "        var popup_5be22848d66fd77c41b09136b287e394 = L.popup({&quot;maxWidth&quot;: 300, &quot;minWidth&quot;: 200});\n",
       "\n",
       "        \n",
       "            \n",
       "                var html_7ff567f6a263972193e609464ea74a96 = $(`&lt;div id=&quot;html_7ff567f6a263972193e609464ea74a96&quot; style=&quot;width: 100.0%; height: 100.0%;&quot;&gt;&lt;pre&gt;&lt;a href=&quot;https://www.starbucks.co.kr/&quot;&gt;스타벅스&lt;/a&gt;로 오세요&lt;/pre&gt;&lt;/div&gt;`)[0];\n",
       "                popup_5be22848d66fd77c41b09136b287e394.setContent(html_7ff567f6a263972193e609464ea74a96);\n",
       "            \n",
       "        \n",
       "\n",
       "        marker_4f21926be845597d355f05403142e23b.bindPopup(popup_5be22848d66fd77c41b09136b287e394)\n",
       "        ;\n",
       "\n",
       "        \n",
       "    \n",
       "    \n",
       "            marker_4f21926be845597d355f05403142e23b.bindTooltip(\n",
       "                `&lt;div&gt;\n",
       "                     스타벅스 부산 송정 비치점\n",
       "                 &lt;/div&gt;`,\n",
       "                {&quot;sticky&quot;: true}\n",
       "            );\n",
       "        \n",
       "&lt;/script&gt;\n",
       "&lt;/html&gt;\" style=\"position:absolute;width:100%;height:100%;left:0;top:0;border:none !important;\" allowfullscreen webkitallowfullscreen mozallowfullscreen></iframe></div></div>"
      ],
      "text/plain": [
       "<folium.folium.Map at 0x27934492720>"
      ]
     },
     "execution_count": 100,
     "metadata": {},
     "output_type": "execute_result"
    }
   ],
   "source": [
    "# 마커 표시\n",
    "map = folium.Map(location=[35.178508,129.199443],zoom_start=16,tiles='CartoDB Voyager')\n",
    "\n",
    "\n",
    "folium.Marker(location=[35.178508,129.199443],tooltip='송정 해수욕장',popup='어서오세요').add_to(map)\n",
    "popup = folium.Popup('<pre><a href=\"https://www.starbucks.co.kr/\">스타벅스</a>로 오세요</pre>', min_width= 200,max_width=300)\n",
    "folium.Marker(location=[35.180762,129.202324],tooltip='스타벅스 부산 송정 비치점',popup=popup,icon=folium.Icon(color='green',icon='mug-hot',prefix='fa')).add_to(map)\n",
    "map"
   ]
  }
 ],
 "metadata": {
  "kernelspec": {
   "display_name": "Python 3",
   "language": "python",
   "name": "python3"
  },
  "language_info": {
   "codemirror_mode": {
    "name": "ipython",
    "version": 3
   },
   "file_extension": ".py",
   "mimetype": "text/x-python",
   "name": "python",
   "nbconvert_exporter": "python",
   "pygments_lexer": "ipython3",
   "version": "3.12.2"
  }
 },
 "nbformat": 4,
 "nbformat_minor": 2
}
